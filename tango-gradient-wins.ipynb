{
 "cells": [
  {
   "cell_type": "code",
   "execution_count": 2,
   "metadata": {
    "vscode": {
     "languageId": "r"
    }
   },
   "outputs": [
    {
     "data": {
      "image/png": "[encoded data removed]",
      "text/plain": [
       "plot without title"
      ]
     },
     "metadata": {
      "image/png": {
       "height": 420,
       "width": 420
      }
     },
     "output_type": "display_data"
    }
   ],
   "source": [
    "# http://tangotiger.com/index.php/site/comments/goodbye-pythag-wins-hello-gradient-wins\n",
    "\n",
    "library(baseballr)\n",
    "library(dplyr)\n",
    "library(extrafont)\n",
    "library(ggplot2)\n",
    "library(tidyverse)\n",
    "\n",
    "theme_custom <- function () { \n",
    "  theme_minimal(base_size=12, base_family=\"Consolas\") %+replace% \n",
    "    theme(\n",
    "      panel.grid.minor = element_blank(),\n",
    "      plot.background = element_rect(fill = 'floralwhite', color = \"floralwhite\")\n",
    "    )\n",
    "}\n",
    "\n",
    "df <- data.frame(Team = character(), TotalGradientWins = numeric(), stringsAsFactors = FALSE)\n",
    "\n",
    "slugTeam <- c(\"ARI\", \"ATL\", \"BAL\", \"BOS\", \"CHC\", \"CHW\", \"CIN\", \"CLE\", \"COL\", \"DET\", \n",
    "              \"HOU\", \"KCR\", \"LAA\", \"LAD\", \"MIA\", \"MIL\", \"MIN\", \"NYM\", \"NYY\", \"OAK\", \n",
    "              \"PHI\", \"PIT\", \"SDP\", \"SEA\", \"SFG\", \"STL\", \"TBR\", \"TEX\", \"TOR\", \"WSN\")\n",
    "\n",
    "for (tm in slugTeam) {\n",
    "    team_results <- bref_team_results(tm, 2023)\n",
    "    team_results_no_ties <- team_results[team_results$R != team_results$RA, ]\n",
    "    team_results_no_ties$RD <- pmin(pmax(team_results_no_ties$R - team_results_no_ties$RA, -20), 20)\n",
    "    team_results_no_ties$gradient_wins <- ifelse(\n",
    "        team_results_no_ties$RD > 0,\n",
    "        -0.0025 * ((team_results_no_ties$RD - 20.5)^2 - 20.5^2) + 0.50 + 0.09,\n",
    "        0.0025 * ((team_results_no_ties$RD + 20.5)^2 - 20.5^2) + 0.50 - 0.09\n",
    "    )\n",
    "\n",
    "    total_gradient_wins <- sum(team_results_no_ties$gradient_wins) / tail(team_results$Gm, 1)\n",
    "    df <- rbind(df, data.frame(Team = tm, TotalGradientWins = total_gradient_wins))\n",
    "}\n",
    "\n",
    "team_colors <- c(\n",
    "  ARI = \"#A71930\", ATL = \"#13274F\", BAL = \"#DF4601\", BOS = \"#BD3039\",\n",
    "  CHW = \"#27251F\", CHC = \"#0E3386\", CIN = \"#C6011F\", CLE = \"#E31937\",\n",
    "  COL = \"#33006F\", DET = \"#0C2340\", HOU = \"#002D62\", KCR = \"#004687\",\n",
    "  LAA = \"#BA0021\", LAD = \"#005A9C\", MIA = \"#00A3E0\", MIL = \"#0A2351\",\n",
    "  MIN = \"#002B5C\", NYY = \"#0C2340\", NYM = \"#002D72\", OAK = \"#003831\",\n",
    "  PHI = \"#E81828\", PIT = \"#FDB827\", SDP = \"#2F241D\", SFG = \"#FD5A1E\",\n",
    "  SEA = \"#0C2C56\", STL = \"#C41E3A\", TBR = \"#092C5C\", TEX = \"#003278\",\n",
    "  TOR = \"#134A8E\", WSN = \"#AB0003\"\n",
    ")\n",
    "\n",
    "ggplot(df, aes(y = reorder(Team, TotalGradientWins), x = TotalGradientWins, fill = Team)) +\n",
    "    geom_bar(stat = \"identity\", position = \"dodge\", width = 0.6) +\n",
    "    scale_fill_manual(values = team_colors) +\n",
    "    labs(title = \"2023 MLB Gradient Win %\") +\n",
    "    xlab(NULL) +\n",
    "    ylab(NULL) +\n",
    "    theme_custom() +\n",
    "    theme(axis.text.y = element_text(angle = 0, hjust = 1),\n",
    "          legend.position = \"none\",\n",
    "          plot.margin = unit(c(1,1,1,1), \"lines\")) +\n",
    "    geom_text(aes(label = ifelse(TotalGradientWins < 1, \n",
    "                                 sub(\"^0\", \"\", sprintf(\"%.3f\", TotalGradientWins)), \n",
    "                                 sprintf(\"%.3f\", TotalGradientWins))), \n",
    "              hjust = -0.2, color = \"black\", size = 2)\n",
    "\n",
    "ggsave(\"MLB_Gradient_WinPercent_2023.png\", width = 6, height = 6, dpi = 300)"
   ]
  }
 ],
 "metadata": {
  "kernelspec": {
   "display_name": "R",
   "language": "R",
   "name": "ir"
  },
  "language_info": {
   "codemirror_mode": "r",
   "file_extension": ".r",
   "mimetype": "text/x-r-source",
   "name": "R",
   "pygments_lexer": "r",
   "version": "4.2.0"
  }
 },
 "nbformat": 4,
 "nbformat_minor": 2
}
