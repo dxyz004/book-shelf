{
 "cells": [
  {
   "cell_type": "code",
   "execution_count": 1,
   "metadata": {},
   "outputs": [
    {
     "name": "stderr",
     "output_type": "stream",
     "text": [
      "Warning message:\n",
      "\"package 'dplyr' was built under R version 4.2.3\"\n",
      "\n",
      "Attaching package: 'dplyr'\n",
      "\n",
      "\n",
      "The following objects are masked from 'package:stats':\n",
      "\n",
      "    filter, lag\n",
      "\n",
      "\n",
      "The following objects are masked from 'package:base':\n",
      "\n",
      "    intersect, setdiff, setequal, union\n",
      "\n",
      "\n",
      "── MLB Player Batting Leaders data from FanGraphs.com ─────── \u001b[3mbaseballr 1.6.0\u001b[23m ──\n",
      "\n",
      "\u001b[36mℹ\u001b[39m Data updated: \u001b[32m\u001b[32m2024-05-07 16:40:51 CDT\u001b[32m\u001b[39m\n",
      "\n"
     ]
    },
    {
     "name": "stdout",
     "output_type": "stream",
     "text": [
      "\u001b[90m# A tibble: 170 × 334\u001b[39m\n",
      "   Season team_name Bats  xMLBAMID PlayerNameRoute  PlayerName    playerid   Age\n",
      "    \u001b[3m\u001b[90m<int>\u001b[39m\u001b[23m \u001b[3m\u001b[90m<chr>\u001b[39m\u001b[23m     \u001b[3m\u001b[90m<chr>\u001b[39m\u001b[23m    \u001b[3m\u001b[90m<int>\u001b[39m\u001b[23m \u001b[3m\u001b[90m<chr>\u001b[39m\u001b[23m            \u001b[3m\u001b[90m<chr>\u001b[39m\u001b[23m            \u001b[3m\u001b[90m<int>\u001b[39m\u001b[23m \u001b[3m\u001b[90m<int>\u001b[39m\u001b[23m\n",
      "\u001b[90m 1\u001b[39m   \u001b[4m2\u001b[24m024 LAD       R       \u001b[4m6\u001b[24m\u001b[4m0\u001b[24m\u001b[4m5\u001b[24m141 Mookie Betts     Mookie Betts     \u001b[4m1\u001b[24m\u001b[4m3\u001b[24m611    31\n",
      "\u001b[90m 2\u001b[39m   \u001b[4m2\u001b[24m024 LAD       L       \u001b[4m6\u001b[24m\u001b[4m6\u001b[24m\u001b[4m0\u001b[24m271 Shohei Ohtani    Shohei Ohtani    \u001b[4m1\u001b[24m\u001b[4m9\u001b[24m755    29\n",
      "\u001b[90m 3\u001b[39m   \u001b[4m2\u001b[24m024 KCR       R       \u001b[4m6\u001b[24m\u001b[4m7\u001b[24m\u001b[4m7\u001b[24m951 Bobby Witt Jr.   Bobby Witt J…    \u001b[4m2\u001b[24m\u001b[4m5\u001b[24m764    24\n",
      "\u001b[90m 4\u001b[39m   \u001b[4m2\u001b[24m024 NYY       L       \u001b[4m6\u001b[24m\u001b[4m6\u001b[24m\u001b[4m5\u001b[24m742 Juan Soto        Juan Soto        \u001b[4m2\u001b[24m\u001b[4m0\u001b[24m123    25\n",
      "\u001b[90m 5\u001b[39m   \u001b[4m2\u001b[24m024 BAL       L       \u001b[4m6\u001b[24m\u001b[4m8\u001b[24m\u001b[4m3\u001b[24m002 Gunnar Henderson Gunnar Hende…    \u001b[4m2\u001b[24m\u001b[4m6\u001b[24m289    23\n",
      "\u001b[90m 6\u001b[39m   \u001b[4m2\u001b[24m024 PHI       R       \u001b[4m6\u001b[24m\u001b[4m6\u001b[24m\u001b[4m4\u001b[24m761 Alec Bohm        Alec Bohm        \u001b[4m2\u001b[24m\u001b[4m1\u001b[24m618    27\n",
      "\u001b[90m 7\u001b[39m   \u001b[4m2\u001b[24m024 CLE       L       \u001b[4m6\u001b[24m\u001b[4m8\u001b[24m\u001b[4m0\u001b[24m757 Steven Kwan      Steven Kwan      \u001b[4m2\u001b[24m\u001b[4m4\u001b[24m610    26\n",
      "\u001b[90m 8\u001b[39m   \u001b[4m2\u001b[24m024 HOU       R       \u001b[4m5\u001b[24m\u001b[4m1\u001b[24m\u001b[4m4\u001b[24m888 Jose Altuve      Jose Altuve       \u001b[4m5\u001b[24m417    34\n",
      "\u001b[90m 9\u001b[39m   \u001b[4m2\u001b[24m024 HOU       L       \u001b[4m6\u001b[24m\u001b[4m6\u001b[24m\u001b[4m3\u001b[24m656 Kyle Tucker      Kyle Tucker      \u001b[4m1\u001b[24m\u001b[4m8\u001b[24m345    27\n",
      "\u001b[90m10\u001b[39m   \u001b[4m2\u001b[24m024 CIN       B       \u001b[4m6\u001b[24m\u001b[4m8\u001b[24m\u001b[4m2\u001b[24m829 Elly De La Cruz  Elly De La C…    \u001b[4m2\u001b[24m\u001b[4m6\u001b[24m668    22\n",
      "\u001b[90m# ℹ 160 more rows\u001b[39m\n",
      "\u001b[90m# ℹ 326 more variables: AgeRng <chr>, SeasonMin <int>, SeasonMax <int>,\u001b[39m\n",
      "\u001b[90m#   G <int>, AB <int>, PA <int>, H <int>, `1B` <int>, `2B` <int>, `3B` <int>,\u001b[39m\n",
      "\u001b[90m#   HR <int>, R <int>, RBI <int>, BB <int>, IBB <int>, SO <int>, HBP <int>,\u001b[39m\n",
      "\u001b[90m#   SF <int>, SH <int>, GDP <int>, SB <int>, CS <int>, AVG <dbl>, GB <int>,\u001b[39m\n",
      "\u001b[90m#   FB <int>, LD <int>, IFFB <int>, Pitches <int>, Balls <int>, Strikes <int>,\u001b[39m\n",
      "\u001b[90m#   IFH <int>, BU <int>, BUH <int>, BB_pct <dbl>, K_pct <dbl>, BB_K <dbl>, …\u001b[39m\n"
     ]
    },
    {
     "name": "stderr",
     "output_type": "stream",
     "text": [
      "── MLB Player Batting Leaders data from FanGraphs.com ─────── \u001b[3mbaseballr 1.6.0\u001b[23m ──\n",
      "\n",
      "\u001b[36mℹ\u001b[39m Data updated: \u001b[32m\u001b[32m2024-05-07 16:40:51 CDT\u001b[32m\u001b[39m\n",
      "\n"
     ]
    },
    {
     "name": "stdout",
     "output_type": "stream",
     "text": [
      "\u001b[90m# A tibble: 170 × 6\u001b[39m\n",
      "   PlayerName         AVG   RBI     R    SB    HR\n",
      "   \u001b[3m\u001b[90m<chr>\u001b[39m\u001b[23m            \u001b[3m\u001b[90m<dbl>\u001b[39m\u001b[23m \u001b[3m\u001b[90m<int>\u001b[39m\u001b[23m \u001b[3m\u001b[90m<int>\u001b[39m\u001b[23m \u001b[3m\u001b[90m<int>\u001b[39m\u001b[23m \u001b[3m\u001b[90m<int>\u001b[39m\u001b[23m\n",
      "\u001b[90m 1\u001b[39m Mookie Betts     0.356    27    32     8     6\n",
      "\u001b[90m 2\u001b[39m Shohei Ohtani    0.370    27    31     9    11\n",
      "\u001b[90m 3\u001b[39m Bobby Witt Jr.   0.314    19    31    12     4\n",
      "\u001b[90m 4\u001b[39m Juan Soto        0.316    28    23     4     8\n",
      "\u001b[90m 5\u001b[39m Gunnar Henderson 0.274    24    26     6    10\n",
      "\u001b[90m 6\u001b[39m Alec Bohm        0.349    32    19     1     4\n",
      "\u001b[90m 7\u001b[39m Steven Kwan      0.353    11    28     3     3\n",
      "\u001b[90m 8\u001b[39m Jose Altuve      0.343    12    25     7     7\n",
      "\u001b[90m 9\u001b[39m Kyle Tucker      0.276    23    23     5     9\n",
      "\u001b[90m10\u001b[39m Elly De La Cruz  0.271    19    27    19     8\n",
      "\u001b[90m# ℹ 160 more rows\u001b[39m\n"
     ]
    }
   ],
   "source": [
    "library(baseballr)\n",
    "library(dplyr)\n",
    "\n",
    "df_qb <- fg_batter_leaders(startseason = \"2024\", endseason = \"2024\", qual = \"y\")\n",
    "print(df_qb)\n",
    "df_roto <- df_qb %>% dplyr::select(PlayerName, AVG, RBI, R, SB, HR)\n",
    "print(df_roto)\n",
    "write.csv(df_roto, \"ohtani-euclid-roto.csv\")"
   ]
  },
  {
   "cell_type": "code",
   "execution_count": 1,
   "metadata": {},
   "outputs": [
    {
     "name": "stdout",
     "output_type": "stream",
     "text": [
      "             PlayerName  Distance_to_Ohtani\n",
      "1         Shohei Ohtani            0.000000\n",
      "0          Mookie Betts            5.196170\n",
      "4      Gunnar Henderson            6.633941\n",
      "14    William Contreras            8.717897\n",
      "100      Kyle Schwarber            9.056722\n",
      "32    Teoscar Hernández            9.487485\n",
      "34   Fernando Tatis Jr.            9.487612\n",
      "82         José Ramírez            9.849849\n",
      "3             Juan Soto            9.950019\n",
      "8           Kyle Tucker           10.000445\n",
      "2        Bobby Witt Jr.           11.045501\n"
     ]
    }
   ],
   "source": [
    "import pandas as pd\n",
    "from scipy.spatial import distance\n",
    "\n",
    "df = pd.read_csv(\"ohtani-euclid-roto.csv\")\n",
    "data = df[['AVG', 'RBI', 'R', 'SB', 'HR']]\n",
    "ohtani_index = df[df['PlayerName'] == 'Shohei Ohtani'].index[0]\n",
    "distances = distance.cdist([data.iloc[ohtani_index]], data, 'euclidean')\n",
    "df['Distance_to_Ohtani'] = distances[0]\n",
    "similar_players = df.sort_values(by='Distance_to_Ohtani')\n",
    "print(similar_players[['PlayerName', 'Distance_to_Ohtani']].head(11))"
   ]
  }
 ],
 "metadata": {
  "kernelspec": {
   "display_name": "base",
   "language": "python",
   "name": "python3"
  },
  "language_info": {
   "codemirror_mode": {
    "name": "ipython",
    "version": 3
   },
   "file_extension": ".py",
   "mimetype": "text/x-python",
   "name": "python",
   "nbconvert_exporter": "python",
   "pygments_lexer": "ipython3",
   "version": "3.11.4"
  }
 },
 "nbformat": 4,
 "nbformat_minor": 2
}
